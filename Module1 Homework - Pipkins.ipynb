{
 "cells": [
  {
   "cell_type": "markdown",
   "metadata": {},
   "source": [
    "1. Print out your favorite color and write comment about what you are doing above the code."
   ]
  },
  {
   "cell_type": "code",
   "execution_count": 1,
   "metadata": {},
   "outputs": [
    {
     "name": "stdout",
     "output_type": "stream",
     "text": [
      "What is your favorite color?: \n",
      "Grey\n",
      "Grey? Wow, that's a trendy color!\n"
     ]
    }
   ],
   "source": [
    "# Use Built-in Function to Prompt User\n",
    "# Assign variable to an Input Function\n",
    "# The value of the variable will be whatever the user inputs\n",
    "# Print the result to see what the user submitted\n",
    "\n",
    "print(\"What is your favorite color?: \")\n",
    "color = input()\n",
    "print(color + '?' + \" Wow, that's a trendy color\" + '!')\n"
   ]
  },
  {
   "cell_type": "markdown",
   "metadata": {},
   "source": [
    " 2. Print the sumation of numbers 1 through 10\n"
   ]
  },
  {
   "cell_type": "code",
   "execution_count": 2,
   "metadata": {},
   "outputs": [
    {
     "name": "stdout",
     "output_type": "stream",
     "text": [
      "55\n"
     ]
    }
   ],
   "source": [
    "# Use of Arithmetic Operators\n",
    "# The numbers are intergers\n",
    "# Use of Print Function\n",
    "\n",
    "sum = 1+2+3+4+5+6+7+8+9+10\n",
    "print(sum)"
   ]
  },
  {
   "cell_type": "markdown",
   "metadata": {},
   "source": [
    "3. Print what 2 to the 8th power is."
   ]
  },
  {
   "cell_type": "code",
   "execution_count": 3,
   "metadata": {},
   "outputs": [
    {
     "name": "stdout",
     "output_type": "stream",
     "text": [
      "256\n"
     ]
    }
   ],
   "source": [
    "# Use of Arithmetic Operators\n",
    "\n",
    "exponent_example = 2**8\n",
    "print(exponent_example)"
   ]
  },
  {
   "cell_type": "markdown",
   "metadata": {},
   "source": [
    "4. Print the remainder of 100 divided by 11. "
   ]
  },
  {
   "cell_type": "code",
   "execution_count": 4,
   "metadata": {},
   "outputs": [
    {
     "name": "stdout",
     "output_type": "stream",
     "text": [
      "1\n"
     ]
    }
   ],
   "source": [
    "# Use of Arithmetic Operators\n",
    "# Use % to find remainder of a division\n",
    "\n",
    "modulo_example = 100 % 11\n",
    "print(modulo_example)"
   ]
  },
  {
   "cell_type": "markdown",
   "metadata": {},
   "source": [
    "5. What is the result of adding strings: 20, 8, 77?"
   ]
  },
  {
   "cell_type": "code",
   "execution_count": 5,
   "metadata": {},
   "outputs": [
    {
     "name": "stdout",
     "output_type": "stream",
     "text": [
      "20877\n"
     ]
    }
   ],
   "source": [
    "# String Operations (concatenation or repeat)\n",
    "\n",
    "add_string = '20' + '8' + '77'\n",
    "print(add_string)\n"
   ]
  },
  {
   "cell_type": "markdown",
   "metadata": {},
   "source": [
    "6. Print out 100 divided by 5"
   ]
  },
  {
   "cell_type": "code",
   "execution_count": 6,
   "metadata": {},
   "outputs": [
    {
     "name": "stdout",
     "output_type": "stream",
     "text": [
      "20.0\n"
     ]
    }
   ],
   "source": [
    "# Arithmetic Operators\n",
    "\n",
    "division_example = 100/5\n",
    "print(division_example)"
   ]
  },
  {
   "cell_type": "markdown",
   "metadata": {},
   "source": [
    "7. What is the difference (subtraction) between 10/4 and 10//4?  Print out the result"
   ]
  },
  {
   "cell_type": "code",
   "execution_count": 7,
   "metadata": {},
   "outputs": [
    {
     "name": "stdout",
     "output_type": "stream",
     "text": [
      "0.5\n"
     ]
    }
   ],
   "source": [
    "# Arithmetic Operators\n",
    "\n",
    "fractions_example = (10/4) - (10//4) # // is floor division\n",
    "print(fractions_example)"
   ]
  },
  {
   "cell_type": "markdown",
   "metadata": {},
   "source": [
    "8. Create a variable called height and store your height value there.\n",
    "Print a sentence describing your height and use the variable in the sentence as well."
   ]
  },
  {
   "cell_type": "code",
   "execution_count": 8,
   "metadata": {},
   "outputs": [
    {
     "name": "stdout",
     "output_type": "stream",
     "text": [
      "My height is, 5 feet 7 inches.\n"
     ]
    }
   ],
   "source": [
    "# Assigning a Value to a Variable\n",
    "# Use Print Function\n",
    "# Use variable in the sentence\n",
    "\n",
    "height = \"5 feet 7 inches.\"\n",
    "print(\"My height is,\", height) # notice placement of commas"
   ]
  },
  {
   "cell_type": "markdown",
   "metadata": {},
   "source": [
    "9. Print the same information as exercise 8 using a formatted string. "
   ]
  },
  {
   "cell_type": "code",
   "execution_count": 9,
   "metadata": {},
   "outputs": [
    {
     "name": "stdout",
     "output_type": "stream",
     "text": [
      "My height is, 5 feet 7 inches.\n"
     ]
    }
   ],
   "source": [
    "# Same as above but use formatted string\n",
    "\n",
    "height = \"5 feet 7 inches.\"\n",
    "print(f\"My height is, {height}\")  "
   ]
  },
  {
   "cell_type": "markdown",
   "metadata": {},
   "source": [
    "10. Use two different (single and double) quotes in a string to print out a sentence"
   ]
  },
  {
   "cell_type": "code",
   "execution_count": 10,
   "metadata": {},
   "outputs": [
    {
     "name": "stdout",
     "output_type": "stream",
     "text": [
      "\"Ready for more weeks of Winter?\" asked Punxsutawney Phil.\n"
     ]
    }
   ],
   "source": [
    "# Remember to use pairs for single and double quotes.\n",
    "\n",
    "print('\"Ready for more weeks of Winter?\" asked Punxsutawney Phil.') "
   ]
  },
  {
   "cell_type": "markdown",
   "metadata": {},
   "source": [
    "11. Print out Hello World! 7 times each on a new line using only one line of code."
   ]
  },
  {
   "cell_type": "code",
   "execution_count": 11,
   "metadata": {},
   "outputs": [
    {
     "name": "stdout",
     "output_type": "stream",
     "text": [
      "Hello World\n",
      "Hello World\n",
      "Hello World\n",
      "Hello World\n",
      "Hello World\n",
      "Hello World\n",
      "Hello World\n",
      "\n"
     ]
    }
   ],
   "source": [
    "# Use of escape characters (\\t or \\n) in a string\n",
    "# Hints: 7 times, each new line, and one line of code\n",
    "\n",
    "print(f\"Hello World\\n\" * 7) # Review the purpose of formatted string"
   ]
  },
  {
   "cell_type": "markdown",
   "metadata": {},
   "source": [
    "12. Write a code to get two integers from a user. Then print out their summation, subtraction, multiplication, and division."
   ]
  },
  {
   "cell_type": "code",
   "execution_count": 12,
   "metadata": {},
   "outputs": [
    {
     "name": "stdout",
     "output_type": "stream",
     "text": [
      "Enter your first number:\t10\n",
      "Enter your next number:\t\t10\n",
      "The Summation is:\t10 + 10 = 20\n",
      "The Subtraction is:\t10 - 10 = 0\n",
      "The Multiplication is:\t10 * 10 = 100\n",
      "The Division is:\t10 / 10 = 1.0\n"
     ]
    }
   ],
   "source": [
    "# Use of Built-in Functions to retrieve a string from a user\n",
    "# Assign a Variable to an Input function\n",
    "# The \\t creates a tab\n",
    "\n",
    "# Write a code to get two integers from a user\n",
    "\n",
    "numb1 = int(input(\"Enter your first number:\\t\"))\n",
    "numb2 = int(input(\"Enter your next number:\\t\\t\"))\n",
    "\n",
    "# print out their summation, subtraction, multiplication, and division\n",
    "# notice both variables together at the end for the operation\n",
    "\n",
    "print(f\"The Summation is:\\t{numb1} + {numb2} = {numb1 + numb2}\") \n",
    "print(f\"The Subtraction is:\\t{numb1} - {numb2} = {numb1 - numb2}\")\n",
    "print(f\"The Multiplication is:\\t{numb1} * {numb2} = {numb1 * numb2}\")\n",
    "print(f\"The Division is:\\t{numb1} / {numb2} = {numb1 / numb2}\")"
   ]
  },
  {
   "cell_type": "markdown",
   "metadata": {},
   "source": [
    "13. You and your collegue have been tasked to write a code to get 5 numbers from a user and then print out their summation and average in a formatted string.  Your partner wrote codes below.  Now it is up to you to fix all errors."
   ]
  },
  {
   "cell_type": "code",
   "execution_count": 13,
   "metadata": {},
   "outputs": [
    {
     "name": "stdout",
     "output_type": "stream",
     "text": [
      "Enter a number: 10\n",
      "Enter a number: 10\n",
      "Enter a number: 10\n",
      "Enter a number: 10\n",
      "Enter a number: 10\n",
      "The Sum is 50\n",
      "The Average is 10.0\n"
     ]
    }
   ],
   "source": [
    "# f is not needed here; on this prompt line\n",
    "prompt = f\"Enter a number: \"        \n",
    "\n",
    "# input function will rtn a string if there is not int in front of the\n",
    "# at the input\n",
    "# Us variable instead of value next\n",
    "# Correct the numbering sequence\n",
    "# Correct the Avg operator\n",
    "\n",
    "numb1 = int(input(prompt))  \n",
    "numb2 = int(input(prompt))   \n",
    "numb3 = int(input(prompt))   \n",
    "numb4 = int(input(prompt))\n",
    "numb5 = int(input(prompt))\n",
    "\n",
    "# The math is done here\n",
    "\n",
    "Total = numb1 + numb2 + numb3 + numb4 + numb5\n",
    "Avg = Total / 5 \n",
    "\n",
    "# Now print out the results.  Need f here & Titles\n",
    "\n",
    "print(f\"The Sum is {Total}\")\n",
    "print(f\"The Average is {Avg}\")"
   ]
  },
  {
   "cell_type": "markdown",
   "metadata": {},
   "source": [
    "14. You and your partner have been assigned to a project to write a program to calculate the amount of runoff rain on a roof from any given rainfall.  \n",
    "\n",
    "You and your partner have figured out that to calculate the runoff from any given rainfall. \n",
    "\n",
    "You need to take the dimensions of the footprint of the roof and <b>convert them to inches</b> (ex - a 50' x 20' roof is 600\" x 240\"). The dimensions should be user submitted. \n",
    "\n",
    "Then, multiply the roof dimensions by the number of inches of rainfall. As an example, 600\" x 240\" x 1\" = 144,000 cubic inches of water for an inch of rainfall. Finally, divide that result by 231 to get the number of gallons (because 1 gallon = 231 cubic inches; 144,000/231 = 623.38).\n",
    "\n",
    "Your partner started coding before getting sick and it is up to you to finish the program."
   ]
  },
  {
   "cell_type": "code",
   "execution_count": 14,
   "metadata": {},
   "outputs": [
    {
     "name": "stdout",
     "output_type": "stream",
     "text": [
      "\n",
      "Rainfall Calculation\n",
      "\n",
      "What's roof's length in feet? 10\n",
      "What's roof's width in feet? 10\n",
      "How much did it rain, in inches? 10\n",
      "\n",
      "The amount of runoff rain is 623.38 gallons.\n"
     ]
    }
   ],
   "source": [
    "# use the \\n escape key before where you want to split\n",
    "# the 2nd n creates a new line\n",
    "# int should be changed to float\n",
    "# input function to prompt user\n",
    "\n",
    "print(\"\\nRainfall Calculation\\n\") \n",
    "\n",
    "length = float(input(\"What's roof's length in feet? \"))\n",
    "width = float(input(\"What's roof's width in feet? \"))\n",
    "amt_rain = float(input(\"How much did it rain, in inches? \"))\n",
    "\n",
    "# Area = Lenght x width x amt_rain\n",
    "# To calculate volume, first convert to inches\n",
    "# Calculate the gallons of rain water on the roof\n",
    "# Known value:  1 foot = 12 inches\n",
    "# Known value:   1 gallon = 231 cubic inches; 144,000/231 = 623.38)\n",
    "\n",
    "Total_volume = (length * 12) * (width * 12) * amt_rain\n",
    "Gallon = Total_volume / 231\n",
    "\n",
    "print(f\"\\nThe amount of runoff rain is {Gallon:.2f} gallons.\")\n",
    "\n"
   ]
  },
  {
   "cell_type": "markdown",
   "metadata": {},
   "source": [
    "15. A program is required to get a customer’s name, a purchase amount and a discount rate (in %). The program must compute the discount amount, sales tax (6%) and the total amount due. Using one print statement, print the customer’s name, purchase amount, discount amount, sales tax and total amount due in friendly format."
   ]
  },
  {
   "cell_type": "code",
   "execution_count": 15,
   "metadata": {},
   "outputs": [
    {
     "name": "stdout",
     "output_type": "stream",
     "text": [
      "Customer Purchase Information Program\n",
      "\n",
      "What is your Name? Nikki\n",
      "Enter purchase amount: 1\n",
      "Enter discount rate(%): 1\n",
      "\n",
      "Purchase_amt:\t$1.00\n",
      "Discount_amt:\t$0.01\n",
      "------------------------------\n",
      "Subtotal:\t$0.99\n",
      "Sales_tax:\t$0.06\n",
      "==============================\n",
      "Total:\t\t$1.05\n"
     ]
    }
   ],
   "source": [
    "# First give a description\n",
    "# the n creates an extra line\n",
    "\n",
    "print(f\"Customer Purchase Information Program\\n\")\n",
    "\n",
    "# Use input function to prompt for name, purchase amount, discount rate.\n",
    "# Sales tax is a given\n",
    "# Divide by 100 to get right format\n",
    "\n",
    "Customer_name=input(\"What is your Name? \")\n",
    "Purchase_amt=float(input(\"Enter purchase amount: \"))\n",
    "Discount_rate=float(input(\"Enter discount rate(%): \")) /100\n",
    "Tax=0.06\n",
    "\n",
    "# Compute discount and totals\n",
    "\n",
    "Discount_amt = Purchase_amt * Discount_rate\n",
    "Subtotal = Purchase_amt - Discount_amt\n",
    "Sales_tax = Subtotal * Tax\n",
    "Total = Subtotal + Sales_tax\n",
    "\n",
    "# Print out customer receipt\n",
    "\n",
    "print(f\"\\nPurchase_amt:\\t${Purchase_amt:.2f}\")\n",
    "print(f\"Discount_amt:\\t${Discount_amt:.2f}\")\n",
    "print(\"-\" * 30)\n",
    "print(f\"Subtotal:\\t${Subtotal:.2f}\")\n",
    "print(f\"Sales_tax:\\t${Sales_tax:.2f}\")\n",
    "print(\"=\" * 30)\n",
    "print(f\"Total:\\t\\t${Total:.2f}\")"
   ]
  }
 ],
 "metadata": {
  "kernelspec": {
   "display_name": "Python 3 (ipykernel)",
   "language": "python",
   "name": "python3"
  },
  "language_info": {
   "codemirror_mode": {
    "name": "ipython",
    "version": 3
   },
   "file_extension": ".py",
   "mimetype": "text/x-python",
   "name": "python",
   "nbconvert_exporter": "python",
   "pygments_lexer": "ipython3",
   "version": "3.9.13"
  }
 },
 "nbformat": 4,
 "nbformat_minor": 4
}
